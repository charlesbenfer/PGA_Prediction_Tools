{
 "cells": [
  {
   "cell_type": "code",
   "execution_count": null,
   "id": "9f24ecb0",
   "metadata": {},
   "outputs": [],
   "source": [
    "import pandas as pd"
   ]
  },
  {
   "cell_type": "markdown",
   "id": "77594f03",
   "metadata": {},
   "source": [
    "Next week is the Memorial, so let's try and predict the winners for that."
   ]
  },
  {
   "cell_type": "code",
   "execution_count": 6,
   "id": "ae3bf802",
   "metadata": {},
   "outputs": [
    {
     "name": "stdout",
     "output_type": "stream",
     "text": [
      "(553, 14)\n"
     ]
    }
   ],
   "source": [
    "df = pd.read_csv('data/espn_full_leaderboards_2015_2025.csv')\n",
    "memorial = df[df['tournament'].isin(['the Memorial Tournament presented by Nationwide', \n",
    "                                     'the Memorial Tournament pres. by Workday'])]\n",
    "\n",
    "print(memorial.shape)"
   ]
  },
  {
   "cell_type": "code",
   "execution_count": 10,
   "id": "1749334b",
   "metadata": {},
   "outputs": [
    {
     "data": {
      "text/plain": [
       "array([nan])"
      ]
     },
     "execution_count": 10,
     "metadata": {},
     "output_type": "execute_result"
    }
   ],
   "source": [
    "memorial['playerId'].unique()"
   ]
  }
 ],
 "metadata": {
  "kernelspec": {
   "display_name": ".venv",
   "language": "python",
   "name": "python3"
  },
  "language_info": {
   "codemirror_mode": {
    "name": "ipython",
    "version": 3
   },
   "file_extension": ".py",
   "mimetype": "text/x-python",
   "name": "python",
   "nbconvert_exporter": "python",
   "pygments_lexer": "ipython3",
   "version": "3.13.0rc2"
  }
 },
 "nbformat": 4,
 "nbformat_minor": 5
}
