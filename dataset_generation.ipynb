{
 "cells": [
  {
   "cell_type": "code",
   "execution_count": 1,
   "id": "f4433ba2",
   "metadata": {},
   "outputs": [],
   "source": [
    "%load_ext autoreload\n",
    "%autoreload 2"
   ]
  },
  {
   "cell_type": "code",
   "execution_count": null,
   "id": "08722209",
   "metadata": {},
   "outputs": [],
   "source": [
    "from statistic_scraping import fetch_stat_details"
   ]
  },
  {
   "cell_type": "code",
   "execution_count": 2,
   "id": "59a2e14f",
   "metadata": {},
   "outputs": [
    {
     "name": "stdout",
     "output_type": "stream",
     "text": [
      "\n",
      "Top 5 for stat 102 / year 2024 / tourney None:\n",
      "   rank playerId     playerName       % Fairways Hit Possible Fairways\n",
      "0     1    46414      Aaron Rai  72.02%          857             1,190\n",
      "1     2    36884     Ben Kohles  70.57%          832             1,179\n",
      "2     3    29535  Brice Garnett  70.51%          471               668\n",
      "3     4    52513   Carson Young  70.50%          839             1,190\n",
      "4     5    40026  Daniel Berger  70.42%          745             1,058\n"
     ]
    }
   ],
   "source": [
    "#Example Usage\n",
    "\n",
    "STAT_ID = \"102\"             # Scoring Average\n",
    "YEAR    = 2024              # seasonal stats\n",
    "TOURNEY = None              # set to string to filter to a single event\n",
    "\n",
    "# fetch the DataFrame\n",
    "df = fetch_stat_details(STAT_ID, year=YEAR, tournament_id=TOURNEY)\n",
    "\n",
    "print(f\"\\nTop 5 for stat {STAT_ID} / year {YEAR} / tourney {TOURNEY}:\")\n",
    "print(df.head())"
   ]
  },
  {
   "cell_type": "code",
   "execution_count": 29,
   "id": "aedc9ded",
   "metadata": {},
   "outputs": [],
   "source": [
    "#Create a Dictionary for relevant stats and their codes\n",
    "\n",
    "stats = {\n",
    "    #Strokes Gained\n",
    "    'SG: Total': '02675', \n",
    "    'SG: Off the Tee' : '02567',\n",
    "    'SG: Tee to Green' : '02674',\n",
    "    'SG: Approach the Green' : '02568', \n",
    "    'SG: Around the Green' : '02569',\n",
    "\n",
    "    #Off the tee\n",
    "    'Total Driving' : '129',\n",
    "    'Driving Distance' : '101', \n",
    "    'Driving Accuracy Percentage' : '102',\n",
    "    'Ball Speed' : '02402',\n",
    "\n",
    "    #Approaching the Green\n",
    "    'Ball Striking' : '158',\n",
    "    'Greens or Fringe in Regulation' : '02437',\n",
    "    'Proximity to Hole' : '331', \n",
    "    'GIR Percentage from Other than Fairway' : '199',\n",
    "    'Going for the Green' : '419',\n",
    "    'Going for the Green - Hit Green Pct' : '486', \n",
    "\n",
    "    #Around the Green\n",
    "    'Scrambling' : '130', \n",
    "    'Proximity to Hole (ARG)' : '374',\n",
    "    'Sand Save Percentage' : '111', \n",
    "    'Scrambling from Rough' : '363',\n",
    "    'Scrambling from >30 YDS' : '366',\n",
    "\n",
    "    #Putting\n",
    "    'Putting Average' : '104', \n",
    "    'Putts per Round' : '119', \n",
    "    'One-Putt Percentage' : '413',\n",
    "    '3-Putt Avoidance' : '426', \n",
    "    'Putting Inside 10ft' : '484',\n",
    "    'Putts Made per Event Over 10ft' : '434',\n",
    "    \n",
    "    #Scoring\n",
    "    'Scoring Average':'120',\n",
    "    'Birdie Average': '156',\n",
    "    'Birdie or Better Percentage' : '352',\n",
    "    'Bogey Avoidance' : '02414',\n",
    "    'Par 3 Scoring Avg' : '142', \n",
    "    'Par 4 Scoring Avg' : '143', \n",
    "    'Par 5 Scoring Avg' : '144',\n",
    "    'Scoring Differential Field Avg' : '02417'\n",
    "}"
   ]
  },
  {
   "cell_type": "code",
   "execution_count": 30,
   "id": "6fe5ab81",
   "metadata": {},
   "outputs": [
    {
     "name": "stdout",
     "output_type": "stream",
     "text": [
      "⏳ Fetching stats for 2010 …\n",
      "✔️  Done 2010\n",
      "⏳ Fetching stats for 2011 …\n",
      "✔️  Done 2011\n",
      "⏳ Fetching stats for 2012 …\n",
      "✔️  Done 2012\n",
      "⏳ Fetching stats for 2013 …\n",
      "✔️  Done 2013\n",
      "⏳ Fetching stats for 2014 …\n",
      "✔️  Done 2014\n",
      "⏳ Fetching stats for 2015 …\n",
      "✔️  Done 2015\n",
      "⏳ Fetching stats for 2016 …\n",
      "✔️  Done 2016\n",
      "⏳ Fetching stats for 2017 …\n",
      "✔️  Done 2017\n",
      "⏳ Fetching stats for 2018 …\n",
      "✔️  Done 2018\n",
      "⏳ Fetching stats for 2019 …\n",
      "✔️  Done 2019\n",
      "⏳ Fetching stats for 2020 …\n",
      "✔️  Done 2020\n",
      "⏳ Fetching stats for 2021 …\n",
      "✔️  Done 2021\n",
      "⏳ Fetching stats for 2022 …\n",
      "✔️  Done 2022\n",
      "⏳ Fetching stats for 2023 …\n",
      "✔️  Done 2023\n",
      "⏳ Fetching stats for 2024 …\n",
      "✔️  Done 2024\n"
     ]
    }
   ],
   "source": [
    "# ─── choose your range of years ─────────────────────────────────────────\n",
    "YEARS = range(2010, 2025) \n",
    "\n",
    "# ─── container: stat_dfs[year][stat_name] → DataFrame ────────────────\n",
    "stat_dfs = {}\n",
    "\n",
    "for year in YEARS:\n",
    "    print(f\"⏳ Fetching stats for {year} …\")\n",
    "    stat_dfs[year] = {}\n",
    "    for stat_name, stat_code in stats.items():\n",
    "        df = fetch_stat_details(stat_code,\n",
    "                                year=year,\n",
    "                                tournament_id=None)\n",
    "        df['Year'] = year\n",
    "        stat_dfs[year][stat_name] = df\n",
    "    print(f\"✔️  Done {year}\")"
   ]
  },
  {
   "cell_type": "code",
   "execution_count": 25,
   "id": "160aa64f",
   "metadata": {},
   "outputs": [
    {
     "data": {
      "text/html": [
       "<div>\n",
       "<style scoped>\n",
       "    .dataframe tbody tr th:only-of-type {\n",
       "        vertical-align: middle;\n",
       "    }\n",
       "\n",
       "    .dataframe tbody tr th {\n",
       "        vertical-align: top;\n",
       "    }\n",
       "\n",
       "    .dataframe thead th {\n",
       "        text-align: right;\n",
       "    }\n",
       "</style>\n",
       "<table border=\"1\" class=\"dataframe\">\n",
       "  <thead>\n",
       "    <tr style=\"text-align: right;\">\n",
       "      <th></th>\n",
       "      <th>rank</th>\n",
       "      <th>playerId</th>\n",
       "      <th>playerName</th>\n",
       "      <th>Avg</th>\n",
       "      <th>Total SG:ARG</th>\n",
       "      <th>Measured Rounds</th>\n",
       "      <th>Year</th>\n",
       "    </tr>\n",
       "  </thead>\n",
       "  <tbody>\n",
       "    <tr>\n",
       "      <th>44</th>\n",
       "      <td>45</td>\n",
       "      <td>47591</td>\n",
       "      <td>Eric Cole</td>\n",
       "      <td>0.172</td>\n",
       "      <td>16.480</td>\n",
       "      <td>96</td>\n",
       "      <td>2024</td>\n",
       "    </tr>\n",
       "    <tr>\n",
       "      <th>22</th>\n",
       "      <td>23</td>\n",
       "      <td>54591</td>\n",
       "      <td>Ben Griffin</td>\n",
       "      <td>0.271</td>\n",
       "      <td>24.643</td>\n",
       "      <td>91</td>\n",
       "      <td>2024</td>\n",
       "    </tr>\n",
       "    <tr>\n",
       "      <th>160</th>\n",
       "      <td>160</td>\n",
       "      <td>35532</td>\n",
       "      <td>Tom Hoge</td>\n",
       "      <td>-0.247</td>\n",
       "      <td>-22.479</td>\n",
       "      <td>91</td>\n",
       "      <td>2024</td>\n",
       "    </tr>\n",
       "    <tr>\n",
       "      <th>51</th>\n",
       "      <td>52</td>\n",
       "      <td>50188</td>\n",
       "      <td>S.H. Kim</td>\n",
       "      <td>0.164</td>\n",
       "      <td>14.778</td>\n",
       "      <td>90</td>\n",
       "      <td>2024</td>\n",
       "    </tr>\n",
       "    <tr>\n",
       "      <th>18</th>\n",
       "      <td>19</td>\n",
       "      <td>30927</td>\n",
       "      <td>Brendon Todd</td>\n",
       "      <td>0.300</td>\n",
       "      <td>26.689</td>\n",
       "      <td>89</td>\n",
       "      <td>2024</td>\n",
       "    </tr>\n",
       "  </tbody>\n",
       "</table>\n",
       "</div>"
      ],
      "text/plain": [
       "     rank playerId    playerName     Avg Total SG:ARG Measured Rounds  Year\n",
       "44     45    47591     Eric Cole   0.172       16.480              96  2024\n",
       "22     23    54591   Ben Griffin   0.271       24.643              91  2024\n",
       "160   160    35532      Tom Hoge  -0.247      -22.479              91  2024\n",
       "51     52    50188      S.H. Kim   0.164       14.778              90  2024\n",
       "18     19    30927  Brendon Todd   0.300       26.689              89  2024"
      ]
     },
     "execution_count": 25,
     "metadata": {},
     "output_type": "execute_result"
    }
   ],
   "source": [
    "stat_dfs[2024][\"SG: Around the Green\"].sort_values(by='Measured Rounds',ascending = False).head()"
   ]
  },
  {
   "cell_type": "code",
   "execution_count": 41,
   "id": "d3c3ed3b",
   "metadata": {},
   "outputs": [],
   "source": [
    "import pandas as pd\n",
    "from functools import reduce\n",
    "import re\n",
    "\n",
    "# helper to make safe column names\n",
    "def sanitize(s: str) -> str:\n",
    "    # replace non‐alphanumerics with underscore, collapse multiples\n",
    "    return re.sub(r'\\W+', '_', s).strip('_')\n",
    "\n",
    "# the “key” columns every table has\n",
    "KEYS = ['playerId','playerName']\n",
    "\n",
    "# collect all the little per‐stat DataFrames here\n",
    "to_merge = []\n",
    "\n",
    "for year, stats_dict in stat_dfs.items():\n",
    "    for stat_name, df in stats_dict.items():\n",
    "        # 1) decide which columns are the “substats”\n",
    "        #    drop any metadata like rank or country if present\n",
    "        drop_meta = set(KEYS + ['rank','country'])\n",
    "        subcols = [c for c in df.columns if c not in drop_meta]\n",
    "        if not subcols:\n",
    "            continue  # nothing to pull\n",
    "\n",
    "        # 2) slice to just the key + those subcols\n",
    "        tmp = df[KEYS + subcols].copy()\n",
    "\n",
    "        # 3) rename each subcol → Year_Stat_Subcol\n",
    "        col_map = {\n",
    "            col: f\"{year}_{sanitize(stat_name)}_{sanitize(col)}\"\n",
    "            for col in subcols\n",
    "        }\n",
    "        tmp = tmp.rename(columns=col_map)\n",
    "\n",
    "        to_merge.append(tmp)\n",
    "\n",
    "# 4) merge them all together on playerId & playerName\n",
    "#    using outer‐join so missing combos become NaN\n",
    "wide_df = reduce(\n",
    "    lambda left, right: pd.merge(left, right, on=KEYS, how='outer'),\n",
    "    to_merge\n",
    ")\n"
   ]
  },
  {
   "cell_type": "code",
   "execution_count": 48,
   "id": "a799dea3",
   "metadata": {},
   "outputs": [
    {
     "name": "stdout",
     "output_type": "stream",
     "text": [
      "(594, 2252)\n"
     ]
    }
   ],
   "source": [
    "print(wide_df.shape)\n",
    "\n",
    "wide_df.to_csv('data/individual_yoy_statistics.csv')"
   ]
  },
  {
   "cell_type": "markdown",
   "id": "93639313",
   "metadata": {},
   "source": [
    "Work is done for individual year long statistics. Let's now scrape tournament result data"
   ]
  },
  {
   "cell_type": "code",
   "execution_count": 2,
   "id": "91400034",
   "metadata": {},
   "outputs": [
    {
     "name": "stdout",
     "output_type": "stream",
     "text": [
      "→ Season 2010\n"
     ]
    },
    {
     "ename": "RuntimeError",
     "evalue": "Cannot use HTMLSession within an existing event loop. Use AsyncHTMLSession instead.",
     "output_type": "error",
     "traceback": [
      "\u001b[31m---------------------------------------------------------------------------\u001b[39m",
      "\u001b[31mRuntimeError\u001b[39m                              Traceback (most recent call last)",
      "\u001b[36mCell\u001b[39m\u001b[36m \u001b[39m\u001b[32mIn[2]\u001b[39m\u001b[32m, line 5\u001b[39m\n\u001b[32m      2\u001b[39m \u001b[38;5;28;01mimport\u001b[39;00m\u001b[38;5;250m \u001b[39m\u001b[34;01mtournament_result_scraping\u001b[39;00m\n\u001b[32m      4\u001b[39m \u001b[38;5;66;03m# 2) call the builder\u001b[39;00m\n\u001b[32m----> \u001b[39m\u001b[32m5\u001b[39m full_df = \u001b[43mtournament_result_scraping\u001b[49m\u001b[43m.\u001b[49m\u001b[43mbuild_full_leaderboards\u001b[49m\u001b[43m(\u001b[49m\u001b[43mstart_year\u001b[49m\u001b[43m=\u001b[49m\u001b[32;43m2010\u001b[39;49m\u001b[43m)\u001b[49m\n\u001b[32m      7\u001b[39m \u001b[38;5;66;03m# 3) inspect / save\u001b[39;00m\n\u001b[32m      8\u001b[39m full_df.head()\n",
      "\u001b[36mFile \u001b[39m\u001b[32m~/PGA_Prediction_Tools/tournament_result_scraping.py:110\u001b[39m, in \u001b[36mbuild_full_leaderboards\u001b[39m\u001b[34m(start_year, end_year)\u001b[39m\n\u001b[32m    108\u001b[39m \u001b[38;5;28;01mfor\u001b[39;00m yr \u001b[38;5;129;01min\u001b[39;00m \u001b[38;5;28mrange\u001b[39m(start_year, end_year+\u001b[32m1\u001b[39m):\n\u001b[32m    109\u001b[39m     \u001b[38;5;28mprint\u001b[39m(\u001b[33mf\u001b[39m\u001b[33m\"\u001b[39m\u001b[33m→ Season \u001b[39m\u001b[38;5;132;01m{\u001b[39;00myr\u001b[38;5;132;01m}\u001b[39;00m\u001b[33m\"\u001b[39m)\n\u001b[32m--> \u001b[39m\u001b[32m110\u001b[39m     tourneys = \u001b[43mget_tournaments_for_year\u001b[49m\u001b[43m(\u001b[49m\u001b[43myr\u001b[49m\u001b[43m)\u001b[49m\n\u001b[32m    111\u001b[39m     \u001b[38;5;28;01mfor\u001b[39;00m tid \u001b[38;5;129;01min\u001b[39;00m tourneys:\n\u001b[32m    112\u001b[39m         \u001b[38;5;28mprint\u001b[39m(\u001b[33mf\u001b[39m\u001b[33m\"\u001b[39m\u001b[33m   • \u001b[39m\u001b[38;5;132;01m{\u001b[39;00mtid\u001b[38;5;132;01m}\u001b[39;00m\u001b[33m\"\u001b[39m, end=\u001b[33m\"\u001b[39m\u001b[33m … \u001b[39m\u001b[33m\"\u001b[39m)\n",
      "\u001b[36mFile \u001b[39m\u001b[32m~/PGA_Prediction_Tools/tournament_result_scraping.py:28\u001b[39m, in \u001b[36mget_tournaments_for_year\u001b[39m\u001b[34m(year)\u001b[39m\n\u001b[32m     26\u001b[39m url = \u001b[33mf\u001b[39m\u001b[33m\"\u001b[39m\u001b[33mhttps://www.pgatour.com/schedule.html?year=\u001b[39m\u001b[38;5;132;01m{\u001b[39;00myear\u001b[38;5;132;01m}\u001b[39;00m\u001b[33m\"\u001b[39m\n\u001b[32m     27\u001b[39m r = session.get(url, headers={\u001b[33m'\u001b[39m\u001b[33mUser-Agent\u001b[39m\u001b[33m'\u001b[39m:\u001b[33m'\u001b[39m\u001b[33mMozilla/5.0\u001b[39m\u001b[33m'\u001b[39m})\n\u001b[32m---> \u001b[39m\u001b[32m28\u001b[39m \u001b[43mr\u001b[49m\u001b[43m.\u001b[49m\u001b[43mhtml\u001b[49m\u001b[43m.\u001b[49m\u001b[43mrender\u001b[49m\u001b[43m(\u001b[49m\u001b[43mtimeout\u001b[49m\u001b[43m=\u001b[49m\u001b[32;43m20\u001b[39;49m\u001b[43m,\u001b[49m\u001b[43m \u001b[49m\u001b[43msleep\u001b[49m\u001b[43m=\u001b[49m\u001b[32;43m2\u001b[39;49m\u001b[43m)\u001b[49m  \u001b[38;5;66;03m# give it time to build the cards\u001b[39;00m\n\u001b[32m     30\u001b[39m \u001b[38;5;66;03m# adjust this selector if the site changes; we're looking for the  \u001b[39;00m\n\u001b[32m     31\u001b[39m \u001b[38;5;66;03m# <a href=\"/tournaments/2023/.../R2023464/\"> links on each card\u001b[39;00m\n\u001b[32m     32\u001b[39m links = r.html.find(\u001b[33m\"\u001b[39m\u001b[33ma.tournament-card--link\u001b[39m\u001b[33m\"\u001b[39m)  \n",
      "\u001b[36mFile \u001b[39m\u001b[32m~/PGA_Prediction_Tools/.venv/lib/python3.13/site-packages/requests_html.py:586\u001b[39m, in \u001b[36mHTML.render\u001b[39m\u001b[34m(self, retries, script, wait, scrolldown, sleep, reload, timeout, keep_page)\u001b[39m\n\u001b[32m    541\u001b[39m \u001b[38;5;28;01mdef\u001b[39;00m\u001b[38;5;250m \u001b[39m\u001b[34mrender\u001b[39m(\u001b[38;5;28mself\u001b[39m, retries: \u001b[38;5;28mint\u001b[39m = \u001b[32m8\u001b[39m, script: \u001b[38;5;28mstr\u001b[39m = \u001b[38;5;28;01mNone\u001b[39;00m, wait: \u001b[38;5;28mfloat\u001b[39m = \u001b[32m0.2\u001b[39m, scrolldown=\u001b[38;5;28;01mFalse\u001b[39;00m, sleep: \u001b[38;5;28mint\u001b[39m = \u001b[32m0\u001b[39m, reload: \u001b[38;5;28mbool\u001b[39m = \u001b[38;5;28;01mTrue\u001b[39;00m, timeout: Union[\u001b[38;5;28mfloat\u001b[39m, \u001b[38;5;28mint\u001b[39m] = \u001b[32m8.0\u001b[39m, keep_page: \u001b[38;5;28mbool\u001b[39m = \u001b[38;5;28;01mFalse\u001b[39;00m):\n\u001b[32m    542\u001b[39m \u001b[38;5;250m    \u001b[39m\u001b[33;03m\"\"\"Reloads the response in Chromium, and replaces HTML content\u001b[39;00m\n\u001b[32m    543\u001b[39m \u001b[33;03m    with an updated version, with JavaScript executed.\u001b[39;00m\n\u001b[32m    544\u001b[39m \n\u001b[32m   (...)\u001b[39m\u001b[32m    583\u001b[39m \u001b[33;03m    Chromium into your home directory (``~/.pyppeteer``).\u001b[39;00m\n\u001b[32m    584\u001b[39m \u001b[33;03m    \"\"\"\u001b[39;00m\n\u001b[32m--> \u001b[39m\u001b[32m586\u001b[39m     \u001b[38;5;28mself\u001b[39m.browser = \u001b[38;5;28;43mself\u001b[39;49m\u001b[43m.\u001b[49m\u001b[43msession\u001b[49m\u001b[43m.\u001b[49m\u001b[43mbrowser\u001b[49m  \u001b[38;5;66;03m# Automatically create a event loop and browser\u001b[39;00m\n\u001b[32m    587\u001b[39m     content = \u001b[38;5;28;01mNone\u001b[39;00m\n\u001b[32m    589\u001b[39m     \u001b[38;5;66;03m# Automatically set Reload to False, if example URL is being used.\u001b[39;00m\n",
      "\u001b[36mFile \u001b[39m\u001b[32m~/PGA_Prediction_Tools/.venv/lib/python3.13/site-packages/requests_html.py:729\u001b[39m, in \u001b[36mHTMLSession.browser\u001b[39m\u001b[34m(self)\u001b[39m\n\u001b[32m    727\u001b[39m     \u001b[38;5;28mself\u001b[39m.loop = asyncio.get_event_loop()\n\u001b[32m    728\u001b[39m     \u001b[38;5;28;01mif\u001b[39;00m \u001b[38;5;28mself\u001b[39m.loop.is_running():\n\u001b[32m--> \u001b[39m\u001b[32m729\u001b[39m         \u001b[38;5;28;01mraise\u001b[39;00m \u001b[38;5;167;01mRuntimeError\u001b[39;00m(\u001b[33m\"\u001b[39m\u001b[33mCannot use HTMLSession within an existing event loop. Use AsyncHTMLSession instead.\u001b[39m\u001b[33m\"\u001b[39m)\n\u001b[32m    730\u001b[39m     \u001b[38;5;28mself\u001b[39m._browser = \u001b[38;5;28mself\u001b[39m.loop.run_until_complete(\u001b[38;5;28msuper\u001b[39m().browser)\n\u001b[32m    731\u001b[39m \u001b[38;5;28;01mreturn\u001b[39;00m \u001b[38;5;28mself\u001b[39m._browser\n",
      "\u001b[31mRuntimeError\u001b[39m: Cannot use HTMLSession within an existing event loop. Use AsyncHTMLSession instead."
     ]
    }
   ],
   "source": [
    "# 1) import your module\n",
    "import tournament_result_scraping\n",
    "\n",
    "# 2) call the builder\n",
    "full_df = tournament_result_scraping.build_full_leaderboards(start_year=2010)\n",
    "\n",
    "# 3) inspect / save\n",
    "full_df.head()\n",
    "full_df.to_csv('leaderboards_2010_to_present.csv', index=False)"
   ]
  }
 ],
 "metadata": {
  "kernelspec": {
   "display_name": ".venv",
   "language": "python",
   "name": "python3"
  },
  "language_info": {
   "codemirror_mode": {
    "name": "ipython",
    "version": 3
   },
   "file_extension": ".py",
   "mimetype": "text/x-python",
   "name": "python",
   "nbconvert_exporter": "python",
   "pygments_lexer": "ipython3",
   "version": "3.13.0rc2"
  }
 },
 "nbformat": 4,
 "nbformat_minor": 5
}
